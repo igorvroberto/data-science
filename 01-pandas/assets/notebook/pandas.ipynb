{
 "metadata": {
  "language_info": {
   "codemirror_mode": {
    "name": "ipython",
    "version": 3
   },
   "file_extension": ".py",
   "mimetype": "text/x-python",
   "name": "python",
   "nbconvert_exporter": "python",
   "pygments_lexer": "ipython3",
   "version": "3.8.5-final"
  },
  "orig_nbformat": 2,
  "kernelspec": {
   "name": "python_defaultSpec_1597861669746",
   "display_name": "Python 3.7.6 64-bit ('base': conda)"
  }
 },
 "nbformat": 4,
 "nbformat_minor": 2,
 "cells": [
  {
   "cell_type": "code",
   "execution_count": 113,
   "metadata": {},
   "outputs": [],
   "source": [
    "# Importando a biblioteca Pandas\n",
    "import pandas as pd"
   ]
  },
  {
   "cell_type": "code",
   "execution_count": 114,
   "metadata": {},
   "outputs": [],
   "source": [
    "# Instanciando um dataframe com o médoto read_csv\n",
    "# Como os dados do arquivo .csv estão separados por ;, especificamos o separador\n",
    "# Devido ao fato de o separador de decimais ser uma vírgula e a linguagem esperar um ponto, especificamos o separador\n",
    "\n",
    "df = pd.read_csv('https://raw.githubusercontent.com/igorvroberto/data-science/master/01-pandas/assets/data_asset/distribuicao_epi.csv', sep=';', decimal=',')"
   ]
  },
  {
   "cell_type": "markdown",
   "metadata": {},
   "source": [
    "#### DataFrame é uma estrutura bidimensional de dados, como uma planilha.\n",
    "#### Na sequência abaixo, exploraremos os dados do DataFrame instanciado na célula anterior."
   ]
  },
  {
   "cell_type": "code",
   "execution_count": 115,
   "metadata": {},
   "outputs": [
    {
     "output_type": "execute_result",
     "data": {
      "text/plain": "  Material    Dt,Saída  Nº Pedido Requisitante / Destino Unidade  Quantidade  \\\n0   Álcool  2020-03-19     308748                   Acre   Litro         9.6   \n1   Álcool  2020-03-19     308748                   Acre   Litro        42.0   \n2   Álcool  2020-03-19     308499                   Acre   Litro        12.0   \n3   Álcool  2020-03-19     308500                   Acre   Litro        12.0   \n4   Álcool  2020-03-25     309483                   Acre   Litro        48.0   \n\n     Status  \n0  Entregue  \n1  Entregue  \n2  Entregue  \n3  Entregue  \n4  Entregue  ",
      "text/html": "<div>\n<style scoped>\n    .dataframe tbody tr th:only-of-type {\n        vertical-align: middle;\n    }\n\n    .dataframe tbody tr th {\n        vertical-align: top;\n    }\n\n    .dataframe thead th {\n        text-align: right;\n    }\n</style>\n<table border=\"1\" class=\"dataframe\">\n  <thead>\n    <tr style=\"text-align: right;\">\n      <th></th>\n      <th>Material</th>\n      <th>Dt,Saída</th>\n      <th>Nº Pedido</th>\n      <th>Requisitante / Destino</th>\n      <th>Unidade</th>\n      <th>Quantidade</th>\n      <th>Status</th>\n    </tr>\n  </thead>\n  <tbody>\n    <tr>\n      <th>0</th>\n      <td>Álcool</td>\n      <td>2020-03-19</td>\n      <td>308748</td>\n      <td>Acre</td>\n      <td>Litro</td>\n      <td>9.6</td>\n      <td>Entregue</td>\n    </tr>\n    <tr>\n      <th>1</th>\n      <td>Álcool</td>\n      <td>2020-03-19</td>\n      <td>308748</td>\n      <td>Acre</td>\n      <td>Litro</td>\n      <td>42.0</td>\n      <td>Entregue</td>\n    </tr>\n    <tr>\n      <th>2</th>\n      <td>Álcool</td>\n      <td>2020-03-19</td>\n      <td>308499</td>\n      <td>Acre</td>\n      <td>Litro</td>\n      <td>12.0</td>\n      <td>Entregue</td>\n    </tr>\n    <tr>\n      <th>3</th>\n      <td>Álcool</td>\n      <td>2020-03-19</td>\n      <td>308500</td>\n      <td>Acre</td>\n      <td>Litro</td>\n      <td>12.0</td>\n      <td>Entregue</td>\n    </tr>\n    <tr>\n      <th>4</th>\n      <td>Álcool</td>\n      <td>2020-03-25</td>\n      <td>309483</td>\n      <td>Acre</td>\n      <td>Litro</td>\n      <td>48.0</td>\n      <td>Entregue</td>\n    </tr>\n  </tbody>\n</table>\n</div>"
     },
     "metadata": {},
     "execution_count": 115
    }
   ],
   "source": [
    "# Verificando as cinco primeiras linhas do dataframe\n",
    "df.head()"
   ]
  },
  {
   "cell_type": "code",
   "execution_count": 116,
   "metadata": {},
   "outputs": [
    {
     "output_type": "execute_result",
     "data": {
      "text/plain": "                      Material    Dt,Saída  Nº Pedido  Requisitante / Destino  \\\n5244               Máscara N95  2020-07-21     323157          Rio de Janeiro   \n5245  Óculos e Protetor Facial  2020-07-16     322487  Outros Órgãos Federais   \n5246  Óculos e Protetor Facial  2020-07-21     323108                    Acre   \n5247  Óculos e Protetor Facial  2020-07-21     323114                   Amapá   \n5248  Óculos e Protetor Facial  2020-07-15     322416  Outros Órgãos Federais   \n\n      Unidade  Quantidade    Status  \n5244  Unidade      1000.0  Entregue  \n5245  Unidade        30.0  Entregue  \n5246  Unidade      2000.0  Entregue  \n5247  Unidade      1590.0  Entregue  \n5248  Unidade        80.0  Entregue  ",
      "text/html": "<div>\n<style scoped>\n    .dataframe tbody tr th:only-of-type {\n        vertical-align: middle;\n    }\n\n    .dataframe tbody tr th {\n        vertical-align: top;\n    }\n\n    .dataframe thead th {\n        text-align: right;\n    }\n</style>\n<table border=\"1\" class=\"dataframe\">\n  <thead>\n    <tr style=\"text-align: right;\">\n      <th></th>\n      <th>Material</th>\n      <th>Dt,Saída</th>\n      <th>Nº Pedido</th>\n      <th>Requisitante / Destino</th>\n      <th>Unidade</th>\n      <th>Quantidade</th>\n      <th>Status</th>\n    </tr>\n  </thead>\n  <tbody>\n    <tr>\n      <th>5244</th>\n      <td>Máscara N95</td>\n      <td>2020-07-21</td>\n      <td>323157</td>\n      <td>Rio de Janeiro</td>\n      <td>Unidade</td>\n      <td>1000.0</td>\n      <td>Entregue</td>\n    </tr>\n    <tr>\n      <th>5245</th>\n      <td>Óculos e Protetor Facial</td>\n      <td>2020-07-16</td>\n      <td>322487</td>\n      <td>Outros Órgãos Federais</td>\n      <td>Unidade</td>\n      <td>30.0</td>\n      <td>Entregue</td>\n    </tr>\n    <tr>\n      <th>5246</th>\n      <td>Óculos e Protetor Facial</td>\n      <td>2020-07-21</td>\n      <td>323108</td>\n      <td>Acre</td>\n      <td>Unidade</td>\n      <td>2000.0</td>\n      <td>Entregue</td>\n    </tr>\n    <tr>\n      <th>5247</th>\n      <td>Óculos e Protetor Facial</td>\n      <td>2020-07-21</td>\n      <td>323114</td>\n      <td>Amapá</td>\n      <td>Unidade</td>\n      <td>1590.0</td>\n      <td>Entregue</td>\n    </tr>\n    <tr>\n      <th>5248</th>\n      <td>Óculos e Protetor Facial</td>\n      <td>2020-07-15</td>\n      <td>322416</td>\n      <td>Outros Órgãos Federais</td>\n      <td>Unidade</td>\n      <td>80.0</td>\n      <td>Entregue</td>\n    </tr>\n  </tbody>\n</table>\n</div>"
     },
     "metadata": {},
     "execution_count": 116
    }
   ],
   "source": [
    "# Verificando as cinco últimas linhas do dataframe\n",
    "df.tail()"
   ]
  },
  {
   "cell_type": "code",
   "execution_count": 191,
   "metadata": {},
   "outputs": [
    {
     "output_type": "execute_result",
     "data": {
      "text/plain": "  Material       Saída  Nº Pedido Destino Unidade  Quantidade    Status\n0   Álcool  2020-03-19     308748    Acre   Litro         9.6  Entregue\n1   Álcool  2020-03-19     308748    Acre   Litro        42.0  Entregue\n2   Álcool  2020-03-19     308499    Acre   Litro        12.0  Entregue\n3   Álcool  2020-03-19     308500    Acre   Litro        12.0  Entregue\n4   Álcool  2020-03-25     309483    Acre   Litro        48.0  Entregue\n5   Álcool  2020-03-28     309979    Acre   Litro        19.2  Entregue\n6   Álcool  2020-03-28     309979    Acre   Litro        18.0  Entregue\n7   Álcool  2020-03-31     310553    Acre   Litro       132.0  Entregue\n8   Álcool  2020-04-10     311433    Acre   Litro        12.6  Entregue\n9   Álcool  2020-04-15     311873    Acre   Litro         5.0  Entregue",
      "text/html": "<div>\n<style scoped>\n    .dataframe tbody tr th:only-of-type {\n        vertical-align: middle;\n    }\n\n    .dataframe tbody tr th {\n        vertical-align: top;\n    }\n\n    .dataframe thead th {\n        text-align: right;\n    }\n</style>\n<table border=\"1\" class=\"dataframe\">\n  <thead>\n    <tr style=\"text-align: right;\">\n      <th></th>\n      <th>Material</th>\n      <th>Saída</th>\n      <th>Nº Pedido</th>\n      <th>Destino</th>\n      <th>Unidade</th>\n      <th>Quantidade</th>\n      <th>Status</th>\n    </tr>\n  </thead>\n  <tbody>\n    <tr>\n      <th>0</th>\n      <td>Álcool</td>\n      <td>2020-03-19</td>\n      <td>308748</td>\n      <td>Acre</td>\n      <td>Litro</td>\n      <td>9.6</td>\n      <td>Entregue</td>\n    </tr>\n    <tr>\n      <th>1</th>\n      <td>Álcool</td>\n      <td>2020-03-19</td>\n      <td>308748</td>\n      <td>Acre</td>\n      <td>Litro</td>\n      <td>42.0</td>\n      <td>Entregue</td>\n    </tr>\n    <tr>\n      <th>2</th>\n      <td>Álcool</td>\n      <td>2020-03-19</td>\n      <td>308499</td>\n      <td>Acre</td>\n      <td>Litro</td>\n      <td>12.0</td>\n      <td>Entregue</td>\n    </tr>\n    <tr>\n      <th>3</th>\n      <td>Álcool</td>\n      <td>2020-03-19</td>\n      <td>308500</td>\n      <td>Acre</td>\n      <td>Litro</td>\n      <td>12.0</td>\n      <td>Entregue</td>\n    </tr>\n    <tr>\n      <th>4</th>\n      <td>Álcool</td>\n      <td>2020-03-25</td>\n      <td>309483</td>\n      <td>Acre</td>\n      <td>Litro</td>\n      <td>48.0</td>\n      <td>Entregue</td>\n    </tr>\n    <tr>\n      <th>5</th>\n      <td>Álcool</td>\n      <td>2020-03-28</td>\n      <td>309979</td>\n      <td>Acre</td>\n      <td>Litro</td>\n      <td>19.2</td>\n      <td>Entregue</td>\n    </tr>\n    <tr>\n      <th>6</th>\n      <td>Álcool</td>\n      <td>2020-03-28</td>\n      <td>309979</td>\n      <td>Acre</td>\n      <td>Litro</td>\n      <td>18.0</td>\n      <td>Entregue</td>\n    </tr>\n    <tr>\n      <th>7</th>\n      <td>Álcool</td>\n      <td>2020-03-31</td>\n      <td>310553</td>\n      <td>Acre</td>\n      <td>Litro</td>\n      <td>132.0</td>\n      <td>Entregue</td>\n    </tr>\n    <tr>\n      <th>8</th>\n      <td>Álcool</td>\n      <td>2020-04-10</td>\n      <td>311433</td>\n      <td>Acre</td>\n      <td>Litro</td>\n      <td>12.6</td>\n      <td>Entregue</td>\n    </tr>\n    <tr>\n      <th>9</th>\n      <td>Álcool</td>\n      <td>2020-04-15</td>\n      <td>311873</td>\n      <td>Acre</td>\n      <td>Litro</td>\n      <td>5.0</td>\n      <td>Entregue</td>\n    </tr>\n  </tbody>\n</table>\n</div>"
     },
     "metadata": {},
     "execution_count": 191
    }
   ],
   "source": [
    "# Verificando as 10 pimeiras linhas do dataframe\n",
    "df.head(10)"
   ]
  },
  {
   "cell_type": "code",
   "execution_count": 109,
   "metadata": {},
   "outputs": [
    {
     "output_type": "execute_result",
     "data": {
      "text/plain": "  Material    Dt,Saída  Nº Pedido Requisitante / Destino Unidade  Quantidade  \\\n0   Álcool  2020-03-19     308748                   Acre   Litro         9.6   \n1   Álcool  2020-03-19     308748                   Acre   Litro        42.0   \n2   Álcool  2020-03-19     308499                   Acre   Litro        12.0   \n3   Álcool  2020-03-19     308500                   Acre   Litro        12.0   \n4   Álcool  2020-03-25     309483                   Acre   Litro        48.0   \n5   Álcool  2020-03-28     309979                   Acre   Litro        19.2   \n\n     Status  \n0  Entregue  \n1  Entregue  \n2  Entregue  \n3  Entregue  \n4  Entregue  \n5  Entregue  ",
      "text/html": "<div>\n<style scoped>\n    .dataframe tbody tr th:only-of-type {\n        vertical-align: middle;\n    }\n\n    .dataframe tbody tr th {\n        vertical-align: top;\n    }\n\n    .dataframe thead th {\n        text-align: right;\n    }\n</style>\n<table border=\"1\" class=\"dataframe\">\n  <thead>\n    <tr style=\"text-align: right;\">\n      <th></th>\n      <th>Material</th>\n      <th>Dt,Saída</th>\n      <th>Nº Pedido</th>\n      <th>Requisitante / Destino</th>\n      <th>Unidade</th>\n      <th>Quantidade</th>\n      <th>Status</th>\n    </tr>\n  </thead>\n  <tbody>\n    <tr>\n      <th>0</th>\n      <td>Álcool</td>\n      <td>2020-03-19</td>\n      <td>308748</td>\n      <td>Acre</td>\n      <td>Litro</td>\n      <td>9.6</td>\n      <td>Entregue</td>\n    </tr>\n    <tr>\n      <th>1</th>\n      <td>Álcool</td>\n      <td>2020-03-19</td>\n      <td>308748</td>\n      <td>Acre</td>\n      <td>Litro</td>\n      <td>42.0</td>\n      <td>Entregue</td>\n    </tr>\n    <tr>\n      <th>2</th>\n      <td>Álcool</td>\n      <td>2020-03-19</td>\n      <td>308499</td>\n      <td>Acre</td>\n      <td>Litro</td>\n      <td>12.0</td>\n      <td>Entregue</td>\n    </tr>\n    <tr>\n      <th>3</th>\n      <td>Álcool</td>\n      <td>2020-03-19</td>\n      <td>308500</td>\n      <td>Acre</td>\n      <td>Litro</td>\n      <td>12.0</td>\n      <td>Entregue</td>\n    </tr>\n    <tr>\n      <th>4</th>\n      <td>Álcool</td>\n      <td>2020-03-25</td>\n      <td>309483</td>\n      <td>Acre</td>\n      <td>Litro</td>\n      <td>48.0</td>\n      <td>Entregue</td>\n    </tr>\n    <tr>\n      <th>5</th>\n      <td>Álcool</td>\n      <td>2020-03-28</td>\n      <td>309979</td>\n      <td>Acre</td>\n      <td>Litro</td>\n      <td>19.2</td>\n      <td>Entregue</td>\n    </tr>\n  </tbody>\n</table>\n</div>"
     },
     "metadata": {},
     "execution_count": 109
    }
   ],
   "source": [
    "# Selecionar as seis primeiras linhas\n",
    "df.loc[0:5]"
   ]
  },
  {
   "cell_type": "code",
   "execution_count": 13,
   "metadata": {},
   "outputs": [
    {
     "output_type": "execute_result",
     "data": {
      "text/plain": "(5249, 7)"
     },
     "metadata": {},
     "execution_count": 13
    }
   ],
   "source": [
    "# Exibindo o tamanho do dataframe. O primeiro valor é o número de linhas; o segundo, o de colunas\n",
    "df.shape"
   ]
  },
  {
   "cell_type": "code",
   "execution_count": 111,
   "metadata": {},
   "outputs": [
    {
     "output_type": "execute_result",
     "data": {
      "text/plain": "Index(['Material', 'Dt,Saída', 'Nº Pedido', 'Requisitante / Destino',\n       'Unidade', 'Quantidade', 'Status'],\n      dtype='object')"
     },
     "metadata": {},
     "execution_count": 111
    }
   ],
   "source": [
    "# Exibindo os nomes das colunas do dataframe\n",
    "df.columns"
   ]
  },
  {
   "cell_type": "code",
   "execution_count": 112,
   "metadata": {},
   "outputs": [
    {
     "output_type": "execute_result",
     "data": {
      "text/plain": "['Material',\n 'Dt,Saída',\n 'Nº Pedido',\n 'Requisitante / Destino',\n 'Unidade',\n 'Quantidade',\n 'Status']"
     },
     "metadata": {},
     "execution_count": 112
    }
   ],
   "source": [
    "# Exibindo os nomes das colunas do dataframe em lista\n",
    "df.columns.to_list()"
   ]
  },
  {
   "cell_type": "code",
   "execution_count": 117,
   "metadata": {},
   "outputs": [],
   "source": [
    "# Renomeando as colunas 'Dt,Saída' e 'Requisitante / Destino'\n",
    "df.rename(columns={'Dt,Saída':'Saída', 'Requisitante / Destino':'Destino'}, inplace=True)\n"
   ]
  },
  {
   "cell_type": "code",
   "execution_count": 121,
   "metadata": {},
   "outputs": [
    {
     "output_type": "execute_result",
     "data": {
      "text/plain": "Index(['Material', 'Saída', 'Nº Pedido', 'Destino', 'Unidade', 'Quantidade',\n       'Status'],\n      dtype='object')"
     },
     "metadata": {},
     "execution_count": 121
    }
   ],
   "source": [
    "# Verificando as alterações nos nomes das colunas\n",
    "df.columns"
   ]
  },
  {
   "cell_type": "code",
   "execution_count": 190,
   "metadata": {},
   "outputs": [
    {
     "output_type": "execute_result",
     "data": {
      "text/plain": "                      Material       Saída                 Destino  Unidade  \\\n0                       Álcool  2020-03-19                    Acre    Litro   \n1                       Álcool  2020-03-19                    Acre    Litro   \n2                       Álcool  2020-03-19                    Acre    Litro   \n3                       Álcool  2020-03-19                    Acre    Litro   \n4                       Álcool  2020-03-25                    Acre    Litro   \n...                        ...         ...                     ...      ...   \n5244               Máscara N95  2020-07-21          Rio de Janeiro  Unidade   \n5245  Óculos e Protetor Facial  2020-07-16  Outros Órgãos Federais  Unidade   \n5246  Óculos e Protetor Facial  2020-07-21                    Acre  Unidade   \n5247  Óculos e Protetor Facial  2020-07-21                   Amapá  Unidade   \n5248  Óculos e Protetor Facial  2020-07-15  Outros Órgãos Federais  Unidade   \n\n        Status  \n0     Entregue  \n1     Entregue  \n2     Entregue  \n3     Entregue  \n4     Entregue  \n...        ...  \n5244  Entregue  \n5245  Entregue  \n5246  Entregue  \n5247  Entregue  \n5248  Entregue  \n\n[5249 rows x 5 columns]",
      "text/html": "<div>\n<style scoped>\n    .dataframe tbody tr th:only-of-type {\n        vertical-align: middle;\n    }\n\n    .dataframe tbody tr th {\n        vertical-align: top;\n    }\n\n    .dataframe thead th {\n        text-align: right;\n    }\n</style>\n<table border=\"1\" class=\"dataframe\">\n  <thead>\n    <tr style=\"text-align: right;\">\n      <th></th>\n      <th>Material</th>\n      <th>Saída</th>\n      <th>Destino</th>\n      <th>Unidade</th>\n      <th>Status</th>\n    </tr>\n  </thead>\n  <tbody>\n    <tr>\n      <th>0</th>\n      <td>Álcool</td>\n      <td>2020-03-19</td>\n      <td>Acre</td>\n      <td>Litro</td>\n      <td>Entregue</td>\n    </tr>\n    <tr>\n      <th>1</th>\n      <td>Álcool</td>\n      <td>2020-03-19</td>\n      <td>Acre</td>\n      <td>Litro</td>\n      <td>Entregue</td>\n    </tr>\n    <tr>\n      <th>2</th>\n      <td>Álcool</td>\n      <td>2020-03-19</td>\n      <td>Acre</td>\n      <td>Litro</td>\n      <td>Entregue</td>\n    </tr>\n    <tr>\n      <th>3</th>\n      <td>Álcool</td>\n      <td>2020-03-19</td>\n      <td>Acre</td>\n      <td>Litro</td>\n      <td>Entregue</td>\n    </tr>\n    <tr>\n      <th>4</th>\n      <td>Álcool</td>\n      <td>2020-03-25</td>\n      <td>Acre</td>\n      <td>Litro</td>\n      <td>Entregue</td>\n    </tr>\n    <tr>\n      <th>...</th>\n      <td>...</td>\n      <td>...</td>\n      <td>...</td>\n      <td>...</td>\n      <td>...</td>\n    </tr>\n    <tr>\n      <th>5244</th>\n      <td>Máscara N95</td>\n      <td>2020-07-21</td>\n      <td>Rio de Janeiro</td>\n      <td>Unidade</td>\n      <td>Entregue</td>\n    </tr>\n    <tr>\n      <th>5245</th>\n      <td>Óculos e Protetor Facial</td>\n      <td>2020-07-16</td>\n      <td>Outros Órgãos Federais</td>\n      <td>Unidade</td>\n      <td>Entregue</td>\n    </tr>\n    <tr>\n      <th>5246</th>\n      <td>Óculos e Protetor Facial</td>\n      <td>2020-07-21</td>\n      <td>Acre</td>\n      <td>Unidade</td>\n      <td>Entregue</td>\n    </tr>\n    <tr>\n      <th>5247</th>\n      <td>Óculos e Protetor Facial</td>\n      <td>2020-07-21</td>\n      <td>Amapá</td>\n      <td>Unidade</td>\n      <td>Entregue</td>\n    </tr>\n    <tr>\n      <th>5248</th>\n      <td>Óculos e Protetor Facial</td>\n      <td>2020-07-15</td>\n      <td>Outros Órgãos Federais</td>\n      <td>Unidade</td>\n      <td>Entregue</td>\n    </tr>\n  </tbody>\n</table>\n<p>5249 rows × 5 columns</p>\n</div>"
     },
     "metadata": {},
     "execution_count": 190
    }
   ],
   "source": [
    "# Exibindo apenas colunas do tipo 'object'\n",
    "df.select_dtypes(include=['object'])\n"
   ]
  },
  {
   "cell_type": "code",
   "execution_count": 108,
   "metadata": {},
   "outputs": [
    {
     "output_type": "execute_result",
     "data": {
      "text/plain": "0         Litro\n1         Litro\n2         Litro\n3         Litro\n4         Litro\n         ...   \n5244    Unidade\n5245    Unidade\n5246    Unidade\n5247    Unidade\n5248    Unidade\nName: Unidade, Length: 5249, dtype: object"
     },
     "metadata": {},
     "execution_count": 108
    }
   ],
   "source": [
    "# Selecionando uma coluna específica (no caso, \"Unidade\")\n",
    "df['Unidade']"
   ]
  },
  {
   "cell_type": "code",
   "execution_count": 123,
   "metadata": {},
   "outputs": [
    {
     "output_type": "execute_result",
     "data": {
      "text/plain": "      Unidade  Quantidade\n0       Litro         9.6\n1       Litro        42.0\n2       Litro        12.0\n3       Litro        12.0\n4       Litro        48.0\n...       ...         ...\n5244  Unidade      1000.0\n5245  Unidade        30.0\n5246  Unidade      2000.0\n5247  Unidade      1590.0\n5248  Unidade        80.0\n\n[5249 rows x 2 columns]",
      "text/html": "<div>\n<style scoped>\n    .dataframe tbody tr th:only-of-type {\n        vertical-align: middle;\n    }\n\n    .dataframe tbody tr th {\n        vertical-align: top;\n    }\n\n    .dataframe thead th {\n        text-align: right;\n    }\n</style>\n<table border=\"1\" class=\"dataframe\">\n  <thead>\n    <tr style=\"text-align: right;\">\n      <th></th>\n      <th>Unidade</th>\n      <th>Quantidade</th>\n    </tr>\n  </thead>\n  <tbody>\n    <tr>\n      <th>0</th>\n      <td>Litro</td>\n      <td>9.6</td>\n    </tr>\n    <tr>\n      <th>1</th>\n      <td>Litro</td>\n      <td>42.0</td>\n    </tr>\n    <tr>\n      <th>2</th>\n      <td>Litro</td>\n      <td>12.0</td>\n    </tr>\n    <tr>\n      <th>3</th>\n      <td>Litro</td>\n      <td>12.0</td>\n    </tr>\n    <tr>\n      <th>4</th>\n      <td>Litro</td>\n      <td>48.0</td>\n    </tr>\n    <tr>\n      <th>...</th>\n      <td>...</td>\n      <td>...</td>\n    </tr>\n    <tr>\n      <th>5244</th>\n      <td>Unidade</td>\n      <td>1000.0</td>\n    </tr>\n    <tr>\n      <th>5245</th>\n      <td>Unidade</td>\n      <td>30.0</td>\n    </tr>\n    <tr>\n      <th>5246</th>\n      <td>Unidade</td>\n      <td>2000.0</td>\n    </tr>\n    <tr>\n      <th>5247</th>\n      <td>Unidade</td>\n      <td>1590.0</td>\n    </tr>\n    <tr>\n      <th>5248</th>\n      <td>Unidade</td>\n      <td>80.0</td>\n    </tr>\n  </tbody>\n</table>\n<p>5249 rows × 2 columns</p>\n</div>"
     },
     "metadata": {},
     "execution_count": 123
    }
   ],
   "source": [
    "# Selecionando duas colunas (\"Unidade\" e \"Quantidade\")\n",
    "df[['Unidade', 'Quantidade']]"
   ]
  },
  {
   "cell_type": "code",
   "execution_count": 124,
   "metadata": {},
   "outputs": [
    {
     "output_type": "execute_result",
     "data": {
      "text/plain": "array(['Álcool', 'Avental', 'Luva', 'Máscara Cicúrgica', 'Máscara N95',\n       'Óculos e Protetor Facial', 'Sapatilha e Touca', 'Teste Rápido'],\n      dtype=object)"
     },
     "metadata": {},
     "execution_count": 124
    }
   ],
   "source": [
    "# Verificando valores únicos da coluna \"Material\"\n",
    "df['Material'].unique()"
   ]
  },
  {
   "cell_type": "code",
   "execution_count": 129,
   "metadata": {},
   "outputs": [
    {
     "output_type": "execute_result",
     "data": {
      "text/plain": "8"
     },
     "metadata": {},
     "execution_count": 129
    }
   ],
   "source": [
    "# Confirmando a quantidade de valores únicos da coluna \"Material\"\n",
    "df['Material'].nunique()"
   ]
  },
  {
   "cell_type": "code",
   "execution_count": 160,
   "metadata": {},
   "outputs": [
    {
     "output_type": "execute_result",
     "data": {
      "text/plain": "                      Material       Saída  Nº Pedido Destino  Unidade  \\\n0                       Álcool  2020-03-19     308748    Acre    Litro   \n1                       Álcool  2020-03-19     308748    Acre    Litro   \n2                       Álcool  2020-03-19     308499    Acre    Litro   \n3                       Álcool  2020-03-19     308500    Acre    Litro   \n4                       Álcool  2020-03-25     309483    Acre    Litro   \n...                        ...         ...        ...     ...      ...   \n5087  Óculos e Protetor Facial  2020-07-21     323099    Acre  Unidade   \n5154  Óculos e Protetor Facial  2020-07-21     323099    Acre  Unidade   \n5167               Máscara N95  2020-07-21     323108    Acre  Unidade   \n5239               Máscara N95  2020-07-21     323099    Acre  Unidade   \n5246  Óculos e Protetor Facial  2020-07-21     323108    Acre  Unidade   \n\n      Quantidade    Status  \n0            9.6  Entregue  \n1           42.0  Entregue  \n2           12.0  Entregue  \n3           12.0  Entregue  \n4           48.0  Entregue  \n...          ...       ...  \n5087        20.0  Entregue  \n5154       400.0  Entregue  \n5167       200.0  Entregue  \n5239       100.0  Entregue  \n5246      2000.0  Entregue  \n\n[154 rows x 7 columns]",
      "text/html": "<div>\n<style scoped>\n    .dataframe tbody tr th:only-of-type {\n        vertical-align: middle;\n    }\n\n    .dataframe tbody tr th {\n        vertical-align: top;\n    }\n\n    .dataframe thead th {\n        text-align: right;\n    }\n</style>\n<table border=\"1\" class=\"dataframe\">\n  <thead>\n    <tr style=\"text-align: right;\">\n      <th></th>\n      <th>Material</th>\n      <th>Saída</th>\n      <th>Nº Pedido</th>\n      <th>Destino</th>\n      <th>Unidade</th>\n      <th>Quantidade</th>\n      <th>Status</th>\n    </tr>\n  </thead>\n  <tbody>\n    <tr>\n      <th>0</th>\n      <td>Álcool</td>\n      <td>2020-03-19</td>\n      <td>308748</td>\n      <td>Acre</td>\n      <td>Litro</td>\n      <td>9.6</td>\n      <td>Entregue</td>\n    </tr>\n    <tr>\n      <th>1</th>\n      <td>Álcool</td>\n      <td>2020-03-19</td>\n      <td>308748</td>\n      <td>Acre</td>\n      <td>Litro</td>\n      <td>42.0</td>\n      <td>Entregue</td>\n    </tr>\n    <tr>\n      <th>2</th>\n      <td>Álcool</td>\n      <td>2020-03-19</td>\n      <td>308499</td>\n      <td>Acre</td>\n      <td>Litro</td>\n      <td>12.0</td>\n      <td>Entregue</td>\n    </tr>\n    <tr>\n      <th>3</th>\n      <td>Álcool</td>\n      <td>2020-03-19</td>\n      <td>308500</td>\n      <td>Acre</td>\n      <td>Litro</td>\n      <td>12.0</td>\n      <td>Entregue</td>\n    </tr>\n    <tr>\n      <th>4</th>\n      <td>Álcool</td>\n      <td>2020-03-25</td>\n      <td>309483</td>\n      <td>Acre</td>\n      <td>Litro</td>\n      <td>48.0</td>\n      <td>Entregue</td>\n    </tr>\n    <tr>\n      <th>...</th>\n      <td>...</td>\n      <td>...</td>\n      <td>...</td>\n      <td>...</td>\n      <td>...</td>\n      <td>...</td>\n      <td>...</td>\n    </tr>\n    <tr>\n      <th>5087</th>\n      <td>Óculos e Protetor Facial</td>\n      <td>2020-07-21</td>\n      <td>323099</td>\n      <td>Acre</td>\n      <td>Unidade</td>\n      <td>20.0</td>\n      <td>Entregue</td>\n    </tr>\n    <tr>\n      <th>5154</th>\n      <td>Óculos e Protetor Facial</td>\n      <td>2020-07-21</td>\n      <td>323099</td>\n      <td>Acre</td>\n      <td>Unidade</td>\n      <td>400.0</td>\n      <td>Entregue</td>\n    </tr>\n    <tr>\n      <th>5167</th>\n      <td>Máscara N95</td>\n      <td>2020-07-21</td>\n      <td>323108</td>\n      <td>Acre</td>\n      <td>Unidade</td>\n      <td>200.0</td>\n      <td>Entregue</td>\n    </tr>\n    <tr>\n      <th>5239</th>\n      <td>Máscara N95</td>\n      <td>2020-07-21</td>\n      <td>323099</td>\n      <td>Acre</td>\n      <td>Unidade</td>\n      <td>100.0</td>\n      <td>Entregue</td>\n    </tr>\n    <tr>\n      <th>5246</th>\n      <td>Óculos e Protetor Facial</td>\n      <td>2020-07-21</td>\n      <td>323108</td>\n      <td>Acre</td>\n      <td>Unidade</td>\n      <td>2000.0</td>\n      <td>Entregue</td>\n    </tr>\n  </tbody>\n</table>\n<p>154 rows × 7 columns</p>\n</div>"
     },
     "metadata": {},
     "execution_count": 160
    }
   ],
   "source": [
    "# Filtrando o dataframe pelo estado do Acre\n",
    "df.loc[(df['Destino'] == 'Acre')]"
   ]
  },
  {
   "cell_type": "code",
   "execution_count": 161,
   "metadata": {},
   "outputs": [
    {
     "output_type": "execute_result",
     "data": {
      "text/plain": "Material      154\nSaída         154\nNº Pedido     154\nDestino       154\nUnidade       154\nQuantidade    154\nStatus        154\ndtype: int64"
     },
     "metadata": {},
     "execution_count": 161
    }
   ],
   "source": [
    "# Contar o número de aparições de uma busca\n",
    "df.loc[(df['Destino'] == 'Acre')].count()"
   ]
  },
  {
   "cell_type": "code",
   "execution_count": 164,
   "metadata": {},
   "outputs": [
    {
     "output_type": "execute_result",
     "data": {
      "text/plain": "                      Material       Saída  Nº Pedido Destino  Unidade  \\\n1                       Álcool  2020-03-19     308748    Acre    Litro   \n2                       Álcool  2020-03-19     308499    Acre    Litro   \n3                       Álcool  2020-03-19     308500    Acre    Litro   \n4                       Álcool  2020-03-25     309483    Acre    Litro   \n5                       Álcool  2020-03-28     309979    Acre    Litro   \n...                        ...         ...        ...     ...      ...   \n5087  Óculos e Protetor Facial  2020-07-21     323099    Acre  Unidade   \n5154  Óculos e Protetor Facial  2020-07-21     323099    Acre  Unidade   \n5167               Máscara N95  2020-07-21     323108    Acre  Unidade   \n5239               Máscara N95  2020-07-21     323099    Acre  Unidade   \n5246  Óculos e Protetor Facial  2020-07-21     323108    Acre  Unidade   \n\n      Quantidade    Status  \n1           42.0  Entregue  \n2           12.0  Entregue  \n3           12.0  Entregue  \n4           48.0  Entregue  \n5           19.2  Entregue  \n...          ...       ...  \n5087        20.0  Entregue  \n5154       400.0  Entregue  \n5167       200.0  Entregue  \n5239       100.0  Entregue  \n5246      2000.0  Entregue  \n\n[151 rows x 7 columns]",
      "text/html": "<div>\n<style scoped>\n    .dataframe tbody tr th:only-of-type {\n        vertical-align: middle;\n    }\n\n    .dataframe tbody tr th {\n        vertical-align: top;\n    }\n\n    .dataframe thead th {\n        text-align: right;\n    }\n</style>\n<table border=\"1\" class=\"dataframe\">\n  <thead>\n    <tr style=\"text-align: right;\">\n      <th></th>\n      <th>Material</th>\n      <th>Saída</th>\n      <th>Nº Pedido</th>\n      <th>Destino</th>\n      <th>Unidade</th>\n      <th>Quantidade</th>\n      <th>Status</th>\n    </tr>\n  </thead>\n  <tbody>\n    <tr>\n      <th>1</th>\n      <td>Álcool</td>\n      <td>2020-03-19</td>\n      <td>308748</td>\n      <td>Acre</td>\n      <td>Litro</td>\n      <td>42.0</td>\n      <td>Entregue</td>\n    </tr>\n    <tr>\n      <th>2</th>\n      <td>Álcool</td>\n      <td>2020-03-19</td>\n      <td>308499</td>\n      <td>Acre</td>\n      <td>Litro</td>\n      <td>12.0</td>\n      <td>Entregue</td>\n    </tr>\n    <tr>\n      <th>3</th>\n      <td>Álcool</td>\n      <td>2020-03-19</td>\n      <td>308500</td>\n      <td>Acre</td>\n      <td>Litro</td>\n      <td>12.0</td>\n      <td>Entregue</td>\n    </tr>\n    <tr>\n      <th>4</th>\n      <td>Álcool</td>\n      <td>2020-03-25</td>\n      <td>309483</td>\n      <td>Acre</td>\n      <td>Litro</td>\n      <td>48.0</td>\n      <td>Entregue</td>\n    </tr>\n    <tr>\n      <th>5</th>\n      <td>Álcool</td>\n      <td>2020-03-28</td>\n      <td>309979</td>\n      <td>Acre</td>\n      <td>Litro</td>\n      <td>19.2</td>\n      <td>Entregue</td>\n    </tr>\n    <tr>\n      <th>...</th>\n      <td>...</td>\n      <td>...</td>\n      <td>...</td>\n      <td>...</td>\n      <td>...</td>\n      <td>...</td>\n      <td>...</td>\n    </tr>\n    <tr>\n      <th>5087</th>\n      <td>Óculos e Protetor Facial</td>\n      <td>2020-07-21</td>\n      <td>323099</td>\n      <td>Acre</td>\n      <td>Unidade</td>\n      <td>20.0</td>\n      <td>Entregue</td>\n    </tr>\n    <tr>\n      <th>5154</th>\n      <td>Óculos e Protetor Facial</td>\n      <td>2020-07-21</td>\n      <td>323099</td>\n      <td>Acre</td>\n      <td>Unidade</td>\n      <td>400.0</td>\n      <td>Entregue</td>\n    </tr>\n    <tr>\n      <th>5167</th>\n      <td>Máscara N95</td>\n      <td>2020-07-21</td>\n      <td>323108</td>\n      <td>Acre</td>\n      <td>Unidade</td>\n      <td>200.0</td>\n      <td>Entregue</td>\n    </tr>\n    <tr>\n      <th>5239</th>\n      <td>Máscara N95</td>\n      <td>2020-07-21</td>\n      <td>323099</td>\n      <td>Acre</td>\n      <td>Unidade</td>\n      <td>100.0</td>\n      <td>Entregue</td>\n    </tr>\n    <tr>\n      <th>5246</th>\n      <td>Óculos e Protetor Facial</td>\n      <td>2020-07-21</td>\n      <td>323108</td>\n      <td>Acre</td>\n      <td>Unidade</td>\n      <td>2000.0</td>\n      <td>Entregue</td>\n    </tr>\n  </tbody>\n</table>\n<p>151 rows × 7 columns</p>\n</div>"
     },
     "metadata": {},
     "execution_count": 164
    }
   ],
   "source": [
    "# Filtrar o dataframe pelo estado do Acre e quantidade maior ou igual a 10\n",
    "df.loc[(df['Destino'] == 'Acre') & (df['Quantidade'] >= 10)]"
   ]
  },
  {
   "cell_type": "code",
   "execution_count": 175,
   "metadata": {},
   "outputs": [
    {
     "output_type": "execute_result",
     "data": {
      "text/plain": "            Nº Pedido\nQuantidade           \n0.5           2494593\n1.0            622696\n1.5            310010\n2.0            627135\n3.0            311895\n...               ...\n2570000.0      310616\n2622600.0      320581\n2636800.0      321432\n2792000.0      316504\n3913800.0      323192\n\n[1531 rows x 1 columns]",
      "text/html": "<div>\n<style scoped>\n    .dataframe tbody tr th:only-of-type {\n        vertical-align: middle;\n    }\n\n    .dataframe tbody tr th {\n        vertical-align: top;\n    }\n\n    .dataframe thead th {\n        text-align: right;\n    }\n</style>\n<table border=\"1\" class=\"dataframe\">\n  <thead>\n    <tr style=\"text-align: right;\">\n      <th></th>\n      <th>Nº Pedido</th>\n    </tr>\n    <tr>\n      <th>Quantidade</th>\n      <th></th>\n    </tr>\n  </thead>\n  <tbody>\n    <tr>\n      <th>0.5</th>\n      <td>2494593</td>\n    </tr>\n    <tr>\n      <th>1.0</th>\n      <td>622696</td>\n    </tr>\n    <tr>\n      <th>1.5</th>\n      <td>310010</td>\n    </tr>\n    <tr>\n      <th>2.0</th>\n      <td>627135</td>\n    </tr>\n    <tr>\n      <th>3.0</th>\n      <td>311895</td>\n    </tr>\n    <tr>\n      <th>...</th>\n      <td>...</td>\n    </tr>\n    <tr>\n      <th>2570000.0</th>\n      <td>310616</td>\n    </tr>\n    <tr>\n      <th>2622600.0</th>\n      <td>320581</td>\n    </tr>\n    <tr>\n      <th>2636800.0</th>\n      <td>321432</td>\n    </tr>\n    <tr>\n      <th>2792000.0</th>\n      <td>316504</td>\n    </tr>\n    <tr>\n      <th>3913800.0</th>\n      <td>323192</td>\n    </tr>\n  </tbody>\n</table>\n<p>1531 rows × 1 columns</p>\n</div>"
     },
     "metadata": {},
     "execution_count": 175
    }
   ],
   "source": [
    "df.groupby('Quantidade').sum()"
   ]
  },
  {
   "cell_type": "code",
   "execution_count": 184,
   "metadata": {},
   "outputs": [
    {
     "output_type": "execute_result",
     "data": {
      "text/plain": "Destino\nAcre                       154\nAlagoas                    147\nAmapá                      149\nAmazonas                   150\nBahia                      153\nCeará                      162\nDistrito Federal           132\nEspírito Santo             161\nGoiás                      153\nMaranhão                   168\nMato Grosso                159\nMato Grosso do Sul         161\nMinas Gerais               150\nOutros Órgãos Federais    1072\nParaná                     152\nParaíba                    157\nPará                       165\nPernambuco                 145\nPiauí                      156\nRio Grande do Norte        155\nRio Grande do Sul          153\nRio de Janeiro             146\nRondônia                   147\nRoraima                    141\nSanta Catarina             166\nSergipe                    148\nSão Paulo                  182\nTocantins                  165\nName: Nº Pedido, dtype: int64"
     },
     "metadata": {},
     "execution_count": 184
    }
   ],
   "source": [
    "# Agrupando atributos da coluna destino pela contagem do número de pedidos\n",
    "df.groupby('Destino')['Nº Pedido'].count()"
   ]
  },
  {
   "cell_type": "code",
   "execution_count": null,
   "metadata": {},
   "outputs": [],
   "source": []
  }
 ]
}