{
 "metadata": {
  "language_info": {
   "codemirror_mode": {
    "name": "ipython",
    "version": 3
   },
   "file_extension": ".py",
   "mimetype": "text/x-python",
   "name": "python",
   "nbconvert_exporter": "python",
   "pygments_lexer": "ipython3",
   "version": "3.7.6-final"
  },
  "orig_nbformat": 2,
  "kernelspec": {
   "name": "python_defaultSpec_1597870932658",
   "display_name": "Python 3.7.6 64-bit ('base': conda)"
  }
 },
 "nbformat": 4,
 "nbformat_minor": 2,
 "cells": [
  {
   "cell_type": "code",
   "execution_count": 52,
   "metadata": {},
   "outputs": [],
   "source": [
    "# Importando a biblioteca Pandas\n",
    "import pandas as pd"
   ]
  },
  {
   "cell_type": "code",
   "execution_count": 53,
   "metadata": {},
   "outputs": [],
   "source": [
    "# Instanciando um dataframe com o médoto read_csv\n",
    "# Como os dados do arquivo .csv estão separados por ;, especificamos o separador\n",
    "# Devido ao fato de o separador de decimais ser uma vírgula e a linguagem esperar um ponto, especificamos o separador\n",
    "# Como o dataset não possuia nenhum valor nulo, adicionei aleatoriamente alguns no arquivo csv\n",
    "\n",
    "df = pd.read_csv('https://raw.githubusercontent.com/igorvroberto/data-science/master/01-pandas/assets/data_asset/distribuicao_epi.csv', sep=';', decimal=',')"
   ]
  },
  {
   "cell_type": "markdown",
   "metadata": {},
   "source": [
    "#### DataFrame é uma estrutura bidimensional de dados, como uma planilha.\n",
    "#### Na sequência abaixo, exploraremos os dados do DataFrame instanciado na célula anterior."
   ]
  },
  {
   "cell_type": "code",
   "execution_count": 54,
   "metadata": {},
   "outputs": [
    {
     "output_type": "execute_result",
     "data": {
      "text/plain": "  Material    Dt,Saída  Nº Pedido Requisitante / Destino Unidade  Quantidade  \\\n0      NaN         NaN        NaN                    NaN     NaN         NaN   \n1   Álcool         NaN   308748.0                   Acre   Litro        42.0   \n2      NaN         NaN        NaN                    NaN     NaN         NaN   \n3   Álcool  19/03/2020        NaN                   Acre   Litro        12.0   \n4   Álcool         NaN   309483.0                   Acre   Litro        48.0   \n\n     Status  \n0       NaN  \n1  Entregue  \n2       NaN  \n3  Entregue  \n4  Entregue  ",
      "text/html": "<div>\n<style scoped>\n    .dataframe tbody tr th:only-of-type {\n        vertical-align: middle;\n    }\n\n    .dataframe tbody tr th {\n        vertical-align: top;\n    }\n\n    .dataframe thead th {\n        text-align: right;\n    }\n</style>\n<table border=\"1\" class=\"dataframe\">\n  <thead>\n    <tr style=\"text-align: right;\">\n      <th></th>\n      <th>Material</th>\n      <th>Dt,Saída</th>\n      <th>Nº Pedido</th>\n      <th>Requisitante / Destino</th>\n      <th>Unidade</th>\n      <th>Quantidade</th>\n      <th>Status</th>\n    </tr>\n  </thead>\n  <tbody>\n    <tr>\n      <th>0</th>\n      <td>NaN</td>\n      <td>NaN</td>\n      <td>NaN</td>\n      <td>NaN</td>\n      <td>NaN</td>\n      <td>NaN</td>\n      <td>NaN</td>\n    </tr>\n    <tr>\n      <th>1</th>\n      <td>Álcool</td>\n      <td>NaN</td>\n      <td>308748.0</td>\n      <td>Acre</td>\n      <td>Litro</td>\n      <td>42.0</td>\n      <td>Entregue</td>\n    </tr>\n    <tr>\n      <th>2</th>\n      <td>NaN</td>\n      <td>NaN</td>\n      <td>NaN</td>\n      <td>NaN</td>\n      <td>NaN</td>\n      <td>NaN</td>\n      <td>NaN</td>\n    </tr>\n    <tr>\n      <th>3</th>\n      <td>Álcool</td>\n      <td>19/03/2020</td>\n      <td>NaN</td>\n      <td>Acre</td>\n      <td>Litro</td>\n      <td>12.0</td>\n      <td>Entregue</td>\n    </tr>\n    <tr>\n      <th>4</th>\n      <td>Álcool</td>\n      <td>NaN</td>\n      <td>309483.0</td>\n      <td>Acre</td>\n      <td>Litro</td>\n      <td>48.0</td>\n      <td>Entregue</td>\n    </tr>\n  </tbody>\n</table>\n</div>"
     },
     "metadata": {},
     "execution_count": 54
    }
   ],
   "source": [
    "# Verificando as cinco primeiras linhas do dataframe\n",
    "df.head()"
   ]
  },
  {
   "cell_type": "code",
   "execution_count": 55,
   "metadata": {},
   "outputs": [
    {
     "output_type": "execute_result",
     "data": {
      "text/plain": "                      Material    Dt,Saída  Nº Pedido  Requisitante / Destino  \\\n5244               Máscara N95  21/07/2020   323157.0          Rio de Janeiro   \n5245  Óculos e Protetor Facial  16/07/2020   322487.0  Outros Órgãos Federais   \n5246  Óculos e Protetor Facial  21/07/2020   323108.0                    Acre   \n5247  Óculos e Protetor Facial  21/07/2020   323114.0                   Amapá   \n5248  Óculos e Protetor Facial  15/07/2020   322416.0  Outros Órgãos Federais   \n\n      Unidade  Quantidade    Status  \n5244  Unidade      1000.0  Entregue  \n5245  Unidade        30.0  Entregue  \n5246  Unidade      2000.0  Entregue  \n5247  Unidade      1590.0  Entregue  \n5248  Unidade        80.0  Entregue  ",
      "text/html": "<div>\n<style scoped>\n    .dataframe tbody tr th:only-of-type {\n        vertical-align: middle;\n    }\n\n    .dataframe tbody tr th {\n        vertical-align: top;\n    }\n\n    .dataframe thead th {\n        text-align: right;\n    }\n</style>\n<table border=\"1\" class=\"dataframe\">\n  <thead>\n    <tr style=\"text-align: right;\">\n      <th></th>\n      <th>Material</th>\n      <th>Dt,Saída</th>\n      <th>Nº Pedido</th>\n      <th>Requisitante / Destino</th>\n      <th>Unidade</th>\n      <th>Quantidade</th>\n      <th>Status</th>\n    </tr>\n  </thead>\n  <tbody>\n    <tr>\n      <th>5244</th>\n      <td>Máscara N95</td>\n      <td>21/07/2020</td>\n      <td>323157.0</td>\n      <td>Rio de Janeiro</td>\n      <td>Unidade</td>\n      <td>1000.0</td>\n      <td>Entregue</td>\n    </tr>\n    <tr>\n      <th>5245</th>\n      <td>Óculos e Protetor Facial</td>\n      <td>16/07/2020</td>\n      <td>322487.0</td>\n      <td>Outros Órgãos Federais</td>\n      <td>Unidade</td>\n      <td>30.0</td>\n      <td>Entregue</td>\n    </tr>\n    <tr>\n      <th>5246</th>\n      <td>Óculos e Protetor Facial</td>\n      <td>21/07/2020</td>\n      <td>323108.0</td>\n      <td>Acre</td>\n      <td>Unidade</td>\n      <td>2000.0</td>\n      <td>Entregue</td>\n    </tr>\n    <tr>\n      <th>5247</th>\n      <td>Óculos e Protetor Facial</td>\n      <td>21/07/2020</td>\n      <td>323114.0</td>\n      <td>Amapá</td>\n      <td>Unidade</td>\n      <td>1590.0</td>\n      <td>Entregue</td>\n    </tr>\n    <tr>\n      <th>5248</th>\n      <td>Óculos e Protetor Facial</td>\n      <td>15/07/2020</td>\n      <td>322416.0</td>\n      <td>Outros Órgãos Federais</td>\n      <td>Unidade</td>\n      <td>80.0</td>\n      <td>Entregue</td>\n    </tr>\n  </tbody>\n</table>\n</div>"
     },
     "metadata": {},
     "execution_count": 55
    }
   ],
   "source": [
    "# Verificando as cinco últimas linhas do dataframe\n",
    "df.tail()"
   ]
  },
  {
   "cell_type": "code",
   "execution_count": 80,
   "metadata": {},
   "outputs": [
    {
     "output_type": "execute_result",
     "data": {
      "text/plain": "   Material       Saída    Pedido Destino Unidade  Quantidade    Status\n0       NaN         NaN       NaN     NaN     NaN         NaN       NaN\n1    Álcool         NaN  308748.0    Acre   Litro        42.0  Entregue\n2       NaN         NaN       NaN     NaN     NaN         NaN       NaN\n3    Álcool  19/03/2020       NaN    Acre   Litro        12.0  Entregue\n4    Álcool         NaN  309483.0    Acre   Litro        48.0  Entregue\n5    Álcool  28/03/2020  309979.0    Acre     NaN        19.2  Entregue\n6    Álcool  28/03/2020  309979.0    Acre   Litro         NaN  Entregue\n7    Álcool  31/03/2020  310553.0    Acre   Litro       132.0       NaN\n8    Álcool  10/04/2020  311433.0     NaN   Litro        12.6  Entregue\n9    Álcool         NaN  311873.0    Acre   Litro         5.0  Entregue\n10   Álcool  15/04/2020  311873.0    Acre   Litro         4.0  Entregue\n11   Álcool  15/04/2020  311873.0    Acre   Litro       153.5  Entregue\n12   Álcool  23/04/2020  312962.0    Acre   Litro       798.0  Entregue\n13   Álcool  30/04/2020  313999.0    Acre   Litro      1068.0  Entregue\n14   Álcool  14/05/2020  315513.0    Acre   Litro        96.0  Entregue",
      "text/html": "<div>\n<style scoped>\n    .dataframe tbody tr th:only-of-type {\n        vertical-align: middle;\n    }\n\n    .dataframe tbody tr th {\n        vertical-align: top;\n    }\n\n    .dataframe thead th {\n        text-align: right;\n    }\n</style>\n<table border=\"1\" class=\"dataframe\">\n  <thead>\n    <tr style=\"text-align: right;\">\n      <th></th>\n      <th>Material</th>\n      <th>Saída</th>\n      <th>Pedido</th>\n      <th>Destino</th>\n      <th>Unidade</th>\n      <th>Quantidade</th>\n      <th>Status</th>\n    </tr>\n  </thead>\n  <tbody>\n    <tr>\n      <th>0</th>\n      <td>NaN</td>\n      <td>NaN</td>\n      <td>NaN</td>\n      <td>NaN</td>\n      <td>NaN</td>\n      <td>NaN</td>\n      <td>NaN</td>\n    </tr>\n    <tr>\n      <th>1</th>\n      <td>Álcool</td>\n      <td>NaN</td>\n      <td>308748.0</td>\n      <td>Acre</td>\n      <td>Litro</td>\n      <td>42.0</td>\n      <td>Entregue</td>\n    </tr>\n    <tr>\n      <th>2</th>\n      <td>NaN</td>\n      <td>NaN</td>\n      <td>NaN</td>\n      <td>NaN</td>\n      <td>NaN</td>\n      <td>NaN</td>\n      <td>NaN</td>\n    </tr>\n    <tr>\n      <th>3</th>\n      <td>Álcool</td>\n      <td>19/03/2020</td>\n      <td>NaN</td>\n      <td>Acre</td>\n      <td>Litro</td>\n      <td>12.0</td>\n      <td>Entregue</td>\n    </tr>\n    <tr>\n      <th>4</th>\n      <td>Álcool</td>\n      <td>NaN</td>\n      <td>309483.0</td>\n      <td>Acre</td>\n      <td>Litro</td>\n      <td>48.0</td>\n      <td>Entregue</td>\n    </tr>\n    <tr>\n      <th>5</th>\n      <td>Álcool</td>\n      <td>28/03/2020</td>\n      <td>309979.0</td>\n      <td>Acre</td>\n      <td>NaN</td>\n      <td>19.2</td>\n      <td>Entregue</td>\n    </tr>\n    <tr>\n      <th>6</th>\n      <td>Álcool</td>\n      <td>28/03/2020</td>\n      <td>309979.0</td>\n      <td>Acre</td>\n      <td>Litro</td>\n      <td>NaN</td>\n      <td>Entregue</td>\n    </tr>\n    <tr>\n      <th>7</th>\n      <td>Álcool</td>\n      <td>31/03/2020</td>\n      <td>310553.0</td>\n      <td>Acre</td>\n      <td>Litro</td>\n      <td>132.0</td>\n      <td>NaN</td>\n    </tr>\n    <tr>\n      <th>8</th>\n      <td>Álcool</td>\n      <td>10/04/2020</td>\n      <td>311433.0</td>\n      <td>NaN</td>\n      <td>Litro</td>\n      <td>12.6</td>\n      <td>Entregue</td>\n    </tr>\n    <tr>\n      <th>9</th>\n      <td>Álcool</td>\n      <td>NaN</td>\n      <td>311873.0</td>\n      <td>Acre</td>\n      <td>Litro</td>\n      <td>5.0</td>\n      <td>Entregue</td>\n    </tr>\n    <tr>\n      <th>10</th>\n      <td>Álcool</td>\n      <td>15/04/2020</td>\n      <td>311873.0</td>\n      <td>Acre</td>\n      <td>Litro</td>\n      <td>4.0</td>\n      <td>Entregue</td>\n    </tr>\n    <tr>\n      <th>11</th>\n      <td>Álcool</td>\n      <td>15/04/2020</td>\n      <td>311873.0</td>\n      <td>Acre</td>\n      <td>Litro</td>\n      <td>153.5</td>\n      <td>Entregue</td>\n    </tr>\n    <tr>\n      <th>12</th>\n      <td>Álcool</td>\n      <td>23/04/2020</td>\n      <td>312962.0</td>\n      <td>Acre</td>\n      <td>Litro</td>\n      <td>798.0</td>\n      <td>Entregue</td>\n    </tr>\n    <tr>\n      <th>13</th>\n      <td>Álcool</td>\n      <td>30/04/2020</td>\n      <td>313999.0</td>\n      <td>Acre</td>\n      <td>Litro</td>\n      <td>1068.0</td>\n      <td>Entregue</td>\n    </tr>\n    <tr>\n      <th>14</th>\n      <td>Álcool</td>\n      <td>14/05/2020</td>\n      <td>315513.0</td>\n      <td>Acre</td>\n      <td>Litro</td>\n      <td>96.0</td>\n      <td>Entregue</td>\n    </tr>\n  </tbody>\n</table>\n</div>"
     },
     "metadata": {},
     "execution_count": 80
    }
   ],
   "source": [
    "# Verificando as 15 pimeiras linhas do dataframe\n",
    "df.head(15)"
   ]
  },
  {
   "cell_type": "code",
   "execution_count": 57,
   "metadata": {},
   "outputs": [
    {
     "output_type": "execute_result",
     "data": {
      "text/plain": "  Material    Dt,Saída  Nº Pedido Requisitante / Destino Unidade  Quantidade  \\\n0      NaN         NaN        NaN                    NaN     NaN         NaN   \n1   Álcool         NaN   308748.0                   Acre   Litro        42.0   \n2      NaN         NaN        NaN                    NaN     NaN         NaN   \n3   Álcool  19/03/2020        NaN                   Acre   Litro        12.0   \n4   Álcool         NaN   309483.0                   Acre   Litro        48.0   \n5   Álcool  28/03/2020   309979.0                   Acre     NaN        19.2   \n\n     Status  \n0       NaN  \n1  Entregue  \n2       NaN  \n3  Entregue  \n4  Entregue  \n5  Entregue  ",
      "text/html": "<div>\n<style scoped>\n    .dataframe tbody tr th:only-of-type {\n        vertical-align: middle;\n    }\n\n    .dataframe tbody tr th {\n        vertical-align: top;\n    }\n\n    .dataframe thead th {\n        text-align: right;\n    }\n</style>\n<table border=\"1\" class=\"dataframe\">\n  <thead>\n    <tr style=\"text-align: right;\">\n      <th></th>\n      <th>Material</th>\n      <th>Dt,Saída</th>\n      <th>Nº Pedido</th>\n      <th>Requisitante / Destino</th>\n      <th>Unidade</th>\n      <th>Quantidade</th>\n      <th>Status</th>\n    </tr>\n  </thead>\n  <tbody>\n    <tr>\n      <th>0</th>\n      <td>NaN</td>\n      <td>NaN</td>\n      <td>NaN</td>\n      <td>NaN</td>\n      <td>NaN</td>\n      <td>NaN</td>\n      <td>NaN</td>\n    </tr>\n    <tr>\n      <th>1</th>\n      <td>Álcool</td>\n      <td>NaN</td>\n      <td>308748.0</td>\n      <td>Acre</td>\n      <td>Litro</td>\n      <td>42.0</td>\n      <td>Entregue</td>\n    </tr>\n    <tr>\n      <th>2</th>\n      <td>NaN</td>\n      <td>NaN</td>\n      <td>NaN</td>\n      <td>NaN</td>\n      <td>NaN</td>\n      <td>NaN</td>\n      <td>NaN</td>\n    </tr>\n    <tr>\n      <th>3</th>\n      <td>Álcool</td>\n      <td>19/03/2020</td>\n      <td>NaN</td>\n      <td>Acre</td>\n      <td>Litro</td>\n      <td>12.0</td>\n      <td>Entregue</td>\n    </tr>\n    <tr>\n      <th>4</th>\n      <td>Álcool</td>\n      <td>NaN</td>\n      <td>309483.0</td>\n      <td>Acre</td>\n      <td>Litro</td>\n      <td>48.0</td>\n      <td>Entregue</td>\n    </tr>\n    <tr>\n      <th>5</th>\n      <td>Álcool</td>\n      <td>28/03/2020</td>\n      <td>309979.0</td>\n      <td>Acre</td>\n      <td>NaN</td>\n      <td>19.2</td>\n      <td>Entregue</td>\n    </tr>\n  </tbody>\n</table>\n</div>"
     },
     "metadata": {},
     "execution_count": 57
    }
   ],
   "source": [
    "# Selecionando as seis primeiras linhas\n",
    "df.loc[0:5]"
   ]
  },
  {
   "cell_type": "code",
   "execution_count": 58,
   "metadata": {},
   "outputs": [
    {
     "output_type": "execute_result",
     "data": {
      "text/plain": "(5249, 7)"
     },
     "metadata": {},
     "execution_count": 58
    }
   ],
   "source": [
    "# Exibindo o tamanho do dataframe. O primeiro valor é o número de linhas; o segundo, o de colunas\n",
    "df.shape"
   ]
  },
  {
   "cell_type": "code",
   "execution_count": 59,
   "metadata": {},
   "outputs": [
    {
     "output_type": "execute_result",
     "data": {
      "text/plain": "Index(['Material', 'Dt,Saída', 'Nº Pedido', 'Requisitante / Destino',\n       'Unidade', 'Quantidade', 'Status'],\n      dtype='object')"
     },
     "metadata": {},
     "execution_count": 59
    }
   ],
   "source": [
    "# Exibindo os nomes das colunas do dataframe\n",
    "df.columns"
   ]
  },
  {
   "cell_type": "code",
   "execution_count": 60,
   "metadata": {},
   "outputs": [
    {
     "output_type": "execute_result",
     "data": {
      "text/plain": "['Material',\n 'Dt,Saída',\n 'Nº Pedido',\n 'Requisitante / Destino',\n 'Unidade',\n 'Quantidade',\n 'Status']"
     },
     "metadata": {},
     "execution_count": 60
    }
   ],
   "source": [
    "# Exibindo os nomes das colunas do dataframe em lista\n",
    "df.columns.to_list()"
   ]
  },
  {
   "cell_type": "code",
   "execution_count": 67,
   "metadata": {},
   "outputs": [],
   "source": [
    "# Renomeando as colunas \"Dt,Saída\", \"Nº Pedido\" e \"Requisitante / Destino\"\n",
    "df.rename(columns={'Dt,Saída':'Saída', 'Nº Pedido':'Pedido', 'Requisitante / Destino':'Destino'}, inplace=True)\n"
   ]
  },
  {
   "cell_type": "code",
   "execution_count": 68,
   "metadata": {},
   "outputs": [
    {
     "output_type": "execute_result",
     "data": {
      "text/plain": "Index(['Material', 'Saída', 'Pedido', 'Destino', 'Unidade', 'Quantidade',\n       'Status'],\n      dtype='object')"
     },
     "metadata": {},
     "execution_count": 68
    }
   ],
   "source": [
    "# Verificando as alterações nos nomes das colunas\n",
    "df.columns"
   ]
  },
  {
   "cell_type": "code",
   "execution_count": 69,
   "metadata": {},
   "outputs": [
    {
     "output_type": "execute_result",
     "data": {
      "text/plain": "                      Material       Saída                 Destino  Unidade  \\\n0                          NaN         NaN                     NaN      NaN   \n1                       Álcool         NaN                    Acre    Litro   \n2                          NaN         NaN                     NaN      NaN   \n3                       Álcool  19/03/2020                    Acre    Litro   \n4                       Álcool         NaN                    Acre    Litro   \n...                        ...         ...                     ...      ...   \n5244               Máscara N95  21/07/2020          Rio de Janeiro  Unidade   \n5245  Óculos e Protetor Facial  16/07/2020  Outros Órgãos Federais  Unidade   \n5246  Óculos e Protetor Facial  21/07/2020                    Acre  Unidade   \n5247  Óculos e Protetor Facial  21/07/2020                   Amapá  Unidade   \n5248  Óculos e Protetor Facial  15/07/2020  Outros Órgãos Federais  Unidade   \n\n        Status  \n0          NaN  \n1     Entregue  \n2          NaN  \n3     Entregue  \n4     Entregue  \n...        ...  \n5244  Entregue  \n5245  Entregue  \n5246  Entregue  \n5247  Entregue  \n5248  Entregue  \n\n[5249 rows x 5 columns]",
      "text/html": "<div>\n<style scoped>\n    .dataframe tbody tr th:only-of-type {\n        vertical-align: middle;\n    }\n\n    .dataframe tbody tr th {\n        vertical-align: top;\n    }\n\n    .dataframe thead th {\n        text-align: right;\n    }\n</style>\n<table border=\"1\" class=\"dataframe\">\n  <thead>\n    <tr style=\"text-align: right;\">\n      <th></th>\n      <th>Material</th>\n      <th>Saída</th>\n      <th>Destino</th>\n      <th>Unidade</th>\n      <th>Status</th>\n    </tr>\n  </thead>\n  <tbody>\n    <tr>\n      <th>0</th>\n      <td>NaN</td>\n      <td>NaN</td>\n      <td>NaN</td>\n      <td>NaN</td>\n      <td>NaN</td>\n    </tr>\n    <tr>\n      <th>1</th>\n      <td>Álcool</td>\n      <td>NaN</td>\n      <td>Acre</td>\n      <td>Litro</td>\n      <td>Entregue</td>\n    </tr>\n    <tr>\n      <th>2</th>\n      <td>NaN</td>\n      <td>NaN</td>\n      <td>NaN</td>\n      <td>NaN</td>\n      <td>NaN</td>\n    </tr>\n    <tr>\n      <th>3</th>\n      <td>Álcool</td>\n      <td>19/03/2020</td>\n      <td>Acre</td>\n      <td>Litro</td>\n      <td>Entregue</td>\n    </tr>\n    <tr>\n      <th>4</th>\n      <td>Álcool</td>\n      <td>NaN</td>\n      <td>Acre</td>\n      <td>Litro</td>\n      <td>Entregue</td>\n    </tr>\n    <tr>\n      <th>...</th>\n      <td>...</td>\n      <td>...</td>\n      <td>...</td>\n      <td>...</td>\n      <td>...</td>\n    </tr>\n    <tr>\n      <th>5244</th>\n      <td>Máscara N95</td>\n      <td>21/07/2020</td>\n      <td>Rio de Janeiro</td>\n      <td>Unidade</td>\n      <td>Entregue</td>\n    </tr>\n    <tr>\n      <th>5245</th>\n      <td>Óculos e Protetor Facial</td>\n      <td>16/07/2020</td>\n      <td>Outros Órgãos Federais</td>\n      <td>Unidade</td>\n      <td>Entregue</td>\n    </tr>\n    <tr>\n      <th>5246</th>\n      <td>Óculos e Protetor Facial</td>\n      <td>21/07/2020</td>\n      <td>Acre</td>\n      <td>Unidade</td>\n      <td>Entregue</td>\n    </tr>\n    <tr>\n      <th>5247</th>\n      <td>Óculos e Protetor Facial</td>\n      <td>21/07/2020</td>\n      <td>Amapá</td>\n      <td>Unidade</td>\n      <td>Entregue</td>\n    </tr>\n    <tr>\n      <th>5248</th>\n      <td>Óculos e Protetor Facial</td>\n      <td>15/07/2020</td>\n      <td>Outros Órgãos Federais</td>\n      <td>Unidade</td>\n      <td>Entregue</td>\n    </tr>\n  </tbody>\n</table>\n<p>5249 rows × 5 columns</p>\n</div>"
     },
     "metadata": {},
     "execution_count": 69
    }
   ],
   "source": [
    "# Exibindo apenas colunas do tipo 'object'\n",
    "df.select_dtypes(include=['object'])\n"
   ]
  },
  {
   "cell_type": "code",
   "execution_count": 71,
   "metadata": {},
   "outputs": [
    {
     "output_type": "execute_result",
     "data": {
      "text/plain": "0           NaN\n1         Litro\n2           NaN\n3         Litro\n4         Litro\n         ...   \n5244    Unidade\n5245    Unidade\n5246    Unidade\n5247    Unidade\n5248    Unidade\nName: Unidade, Length: 5249, dtype: object"
     },
     "metadata": {},
     "execution_count": 71
    }
   ],
   "source": [
    "# Selecionando uma coluna específica (no caso, \"Unidade\")\n",
    "df['Unidade']"
   ]
  },
  {
   "cell_type": "code",
   "execution_count": 72,
   "metadata": {},
   "outputs": [
    {
     "output_type": "execute_result",
     "data": {
      "text/plain": "      Unidade  Quantidade\n0         NaN         NaN\n1       Litro        42.0\n2         NaN         NaN\n3       Litro        12.0\n4       Litro        48.0\n...       ...         ...\n5244  Unidade      1000.0\n5245  Unidade        30.0\n5246  Unidade      2000.0\n5247  Unidade      1590.0\n5248  Unidade        80.0\n\n[5249 rows x 2 columns]",
      "text/html": "<div>\n<style scoped>\n    .dataframe tbody tr th:only-of-type {\n        vertical-align: middle;\n    }\n\n    .dataframe tbody tr th {\n        vertical-align: top;\n    }\n\n    .dataframe thead th {\n        text-align: right;\n    }\n</style>\n<table border=\"1\" class=\"dataframe\">\n  <thead>\n    <tr style=\"text-align: right;\">\n      <th></th>\n      <th>Unidade</th>\n      <th>Quantidade</th>\n    </tr>\n  </thead>\n  <tbody>\n    <tr>\n      <th>0</th>\n      <td>NaN</td>\n      <td>NaN</td>\n    </tr>\n    <tr>\n      <th>1</th>\n      <td>Litro</td>\n      <td>42.0</td>\n    </tr>\n    <tr>\n      <th>2</th>\n      <td>NaN</td>\n      <td>NaN</td>\n    </tr>\n    <tr>\n      <th>3</th>\n      <td>Litro</td>\n      <td>12.0</td>\n    </tr>\n    <tr>\n      <th>4</th>\n      <td>Litro</td>\n      <td>48.0</td>\n    </tr>\n    <tr>\n      <th>...</th>\n      <td>...</td>\n      <td>...</td>\n    </tr>\n    <tr>\n      <th>5244</th>\n      <td>Unidade</td>\n      <td>1000.0</td>\n    </tr>\n    <tr>\n      <th>5245</th>\n      <td>Unidade</td>\n      <td>30.0</td>\n    </tr>\n    <tr>\n      <th>5246</th>\n      <td>Unidade</td>\n      <td>2000.0</td>\n    </tr>\n    <tr>\n      <th>5247</th>\n      <td>Unidade</td>\n      <td>1590.0</td>\n    </tr>\n    <tr>\n      <th>5248</th>\n      <td>Unidade</td>\n      <td>80.0</td>\n    </tr>\n  </tbody>\n</table>\n<p>5249 rows × 2 columns</p>\n</div>"
     },
     "metadata": {},
     "execution_count": 72
    }
   ],
   "source": [
    "# Selecionando duas colunas (\"Unidade\" e \"Quantidade\")\n",
    "df[['Unidade', 'Quantidade']]"
   ]
  },
  {
   "cell_type": "code",
   "execution_count": 73,
   "metadata": {},
   "outputs": [
    {
     "output_type": "execute_result",
     "data": {
      "text/plain": "array([nan, 'Álcool', 'Avental', 'Luva', 'Máscara Cicúrgica',\n       'Máscara N95', 'Óculos e Protetor Facial', 'Sapatilha e Touca',\n       'Teste Rápido'], dtype=object)"
     },
     "metadata": {},
     "execution_count": 73
    }
   ],
   "source": [
    "# Verificando valores únicos da coluna \"Material\"\n",
    "df['Material'].unique()"
   ]
  },
  {
   "cell_type": "code",
   "execution_count": 74,
   "metadata": {},
   "outputs": [
    {
     "output_type": "execute_result",
     "data": {
      "text/plain": "8"
     },
     "metadata": {},
     "execution_count": 74
    }
   ],
   "source": [
    "# Confirmando a quantidade de valores únicos da coluna \"Material\"\n",
    "df['Material'].nunique()"
   ]
  },
  {
   "cell_type": "code",
   "execution_count": 75,
   "metadata": {},
   "outputs": [
    {
     "output_type": "execute_result",
     "data": {
      "text/plain": "                      Material       Saída    Pedido Destino  Unidade  \\\n1                       Álcool         NaN  308748.0    Acre    Litro   \n3                       Álcool  19/03/2020       NaN    Acre    Litro   \n4                       Álcool         NaN  309483.0    Acre    Litro   \n5                       Álcool  28/03/2020  309979.0    Acre      NaN   \n6                       Álcool  28/03/2020  309979.0    Acre    Litro   \n...                        ...         ...       ...     ...      ...   \n5087  Óculos e Protetor Facial  21/07/2020  323099.0    Acre  Unidade   \n5154  Óculos e Protetor Facial  21/07/2020  323099.0    Acre  Unidade   \n5167               Máscara N95  21/07/2020  323108.0    Acre  Unidade   \n5239               Máscara N95  21/07/2020  323099.0    Acre  Unidade   \n5246  Óculos e Protetor Facial  21/07/2020  323108.0    Acre  Unidade   \n\n      Quantidade    Status  \n1           42.0  Entregue  \n3           12.0  Entregue  \n4           48.0  Entregue  \n5           19.2  Entregue  \n6            NaN  Entregue  \n...          ...       ...  \n5087        20.0  Entregue  \n5154       400.0  Entregue  \n5167       200.0  Entregue  \n5239       100.0  Entregue  \n5246      2000.0  Entregue  \n\n[151 rows x 7 columns]",
      "text/html": "<div>\n<style scoped>\n    .dataframe tbody tr th:only-of-type {\n        vertical-align: middle;\n    }\n\n    .dataframe tbody tr th {\n        vertical-align: top;\n    }\n\n    .dataframe thead th {\n        text-align: right;\n    }\n</style>\n<table border=\"1\" class=\"dataframe\">\n  <thead>\n    <tr style=\"text-align: right;\">\n      <th></th>\n      <th>Material</th>\n      <th>Saída</th>\n      <th>Pedido</th>\n      <th>Destino</th>\n      <th>Unidade</th>\n      <th>Quantidade</th>\n      <th>Status</th>\n    </tr>\n  </thead>\n  <tbody>\n    <tr>\n      <th>1</th>\n      <td>Álcool</td>\n      <td>NaN</td>\n      <td>308748.0</td>\n      <td>Acre</td>\n      <td>Litro</td>\n      <td>42.0</td>\n      <td>Entregue</td>\n    </tr>\n    <tr>\n      <th>3</th>\n      <td>Álcool</td>\n      <td>19/03/2020</td>\n      <td>NaN</td>\n      <td>Acre</td>\n      <td>Litro</td>\n      <td>12.0</td>\n      <td>Entregue</td>\n    </tr>\n    <tr>\n      <th>4</th>\n      <td>Álcool</td>\n      <td>NaN</td>\n      <td>309483.0</td>\n      <td>Acre</td>\n      <td>Litro</td>\n      <td>48.0</td>\n      <td>Entregue</td>\n    </tr>\n    <tr>\n      <th>5</th>\n      <td>Álcool</td>\n      <td>28/03/2020</td>\n      <td>309979.0</td>\n      <td>Acre</td>\n      <td>NaN</td>\n      <td>19.2</td>\n      <td>Entregue</td>\n    </tr>\n    <tr>\n      <th>6</th>\n      <td>Álcool</td>\n      <td>28/03/2020</td>\n      <td>309979.0</td>\n      <td>Acre</td>\n      <td>Litro</td>\n      <td>NaN</td>\n      <td>Entregue</td>\n    </tr>\n    <tr>\n      <th>...</th>\n      <td>...</td>\n      <td>...</td>\n      <td>...</td>\n      <td>...</td>\n      <td>...</td>\n      <td>...</td>\n      <td>...</td>\n    </tr>\n    <tr>\n      <th>5087</th>\n      <td>Óculos e Protetor Facial</td>\n      <td>21/07/2020</td>\n      <td>323099.0</td>\n      <td>Acre</td>\n      <td>Unidade</td>\n      <td>20.0</td>\n      <td>Entregue</td>\n    </tr>\n    <tr>\n      <th>5154</th>\n      <td>Óculos e Protetor Facial</td>\n      <td>21/07/2020</td>\n      <td>323099.0</td>\n      <td>Acre</td>\n      <td>Unidade</td>\n      <td>400.0</td>\n      <td>Entregue</td>\n    </tr>\n    <tr>\n      <th>5167</th>\n      <td>Máscara N95</td>\n      <td>21/07/2020</td>\n      <td>323108.0</td>\n      <td>Acre</td>\n      <td>Unidade</td>\n      <td>200.0</td>\n      <td>Entregue</td>\n    </tr>\n    <tr>\n      <th>5239</th>\n      <td>Máscara N95</td>\n      <td>21/07/2020</td>\n      <td>323099.0</td>\n      <td>Acre</td>\n      <td>Unidade</td>\n      <td>100.0</td>\n      <td>Entregue</td>\n    </tr>\n    <tr>\n      <th>5246</th>\n      <td>Óculos e Protetor Facial</td>\n      <td>21/07/2020</td>\n      <td>323108.0</td>\n      <td>Acre</td>\n      <td>Unidade</td>\n      <td>2000.0</td>\n      <td>Entregue</td>\n    </tr>\n  </tbody>\n</table>\n<p>151 rows × 7 columns</p>\n</div>"
     },
     "metadata": {},
     "execution_count": 75
    }
   ],
   "source": [
    "# Filtrando o dataframe pelo estado do Acre\n",
    "df.loc[(df['Destino'] == 'Acre')]"
   ]
  },
  {
   "cell_type": "code",
   "execution_count": 76,
   "metadata": {},
   "outputs": [
    {
     "output_type": "execute_result",
     "data": {
      "text/plain": "Material      151\nSaída         148\nPedido        150\nDestino       151\nUnidade       150\nQuantidade    150\nStatus        150\ndtype: int64"
     },
     "metadata": {},
     "execution_count": 76
    }
   ],
   "source": [
    "# Contar o número de aparições de uma busca\n",
    "df.loc[(df['Destino'] == 'Acre')].count()"
   ]
  },
  {
   "cell_type": "code",
   "execution_count": 77,
   "metadata": {},
   "outputs": [
    {
     "output_type": "execute_result",
     "data": {
      "text/plain": "                      Material       Saída    Pedido Destino  Unidade  \\\n1                       Álcool         NaN  308748.0    Acre    Litro   \n3                       Álcool  19/03/2020       NaN    Acre    Litro   \n4                       Álcool         NaN  309483.0    Acre    Litro   \n5                       Álcool  28/03/2020  309979.0    Acre      NaN   \n7                       Álcool  31/03/2020  310553.0    Acre    Litro   \n...                        ...         ...       ...     ...      ...   \n5087  Óculos e Protetor Facial  21/07/2020  323099.0    Acre  Unidade   \n5154  Óculos e Protetor Facial  21/07/2020  323099.0    Acre  Unidade   \n5167               Máscara N95  21/07/2020  323108.0    Acre  Unidade   \n5239               Máscara N95  21/07/2020  323099.0    Acre  Unidade   \n5246  Óculos e Protetor Facial  21/07/2020  323108.0    Acre  Unidade   \n\n      Quantidade    Status  \n1           42.0  Entregue  \n3           12.0  Entregue  \n4           48.0  Entregue  \n5           19.2  Entregue  \n7          132.0       NaN  \n...          ...       ...  \n5087        20.0  Entregue  \n5154       400.0  Entregue  \n5167       200.0  Entregue  \n5239       100.0  Entregue  \n5246      2000.0  Entregue  \n\n[148 rows x 7 columns]",
      "text/html": "<div>\n<style scoped>\n    .dataframe tbody tr th:only-of-type {\n        vertical-align: middle;\n    }\n\n    .dataframe tbody tr th {\n        vertical-align: top;\n    }\n\n    .dataframe thead th {\n        text-align: right;\n    }\n</style>\n<table border=\"1\" class=\"dataframe\">\n  <thead>\n    <tr style=\"text-align: right;\">\n      <th></th>\n      <th>Material</th>\n      <th>Saída</th>\n      <th>Pedido</th>\n      <th>Destino</th>\n      <th>Unidade</th>\n      <th>Quantidade</th>\n      <th>Status</th>\n    </tr>\n  </thead>\n  <tbody>\n    <tr>\n      <th>1</th>\n      <td>Álcool</td>\n      <td>NaN</td>\n      <td>308748.0</td>\n      <td>Acre</td>\n      <td>Litro</td>\n      <td>42.0</td>\n      <td>Entregue</td>\n    </tr>\n    <tr>\n      <th>3</th>\n      <td>Álcool</td>\n      <td>19/03/2020</td>\n      <td>NaN</td>\n      <td>Acre</td>\n      <td>Litro</td>\n      <td>12.0</td>\n      <td>Entregue</td>\n    </tr>\n    <tr>\n      <th>4</th>\n      <td>Álcool</td>\n      <td>NaN</td>\n      <td>309483.0</td>\n      <td>Acre</td>\n      <td>Litro</td>\n      <td>48.0</td>\n      <td>Entregue</td>\n    </tr>\n    <tr>\n      <th>5</th>\n      <td>Álcool</td>\n      <td>28/03/2020</td>\n      <td>309979.0</td>\n      <td>Acre</td>\n      <td>NaN</td>\n      <td>19.2</td>\n      <td>Entregue</td>\n    </tr>\n    <tr>\n      <th>7</th>\n      <td>Álcool</td>\n      <td>31/03/2020</td>\n      <td>310553.0</td>\n      <td>Acre</td>\n      <td>Litro</td>\n      <td>132.0</td>\n      <td>NaN</td>\n    </tr>\n    <tr>\n      <th>...</th>\n      <td>...</td>\n      <td>...</td>\n      <td>...</td>\n      <td>...</td>\n      <td>...</td>\n      <td>...</td>\n      <td>...</td>\n    </tr>\n    <tr>\n      <th>5087</th>\n      <td>Óculos e Protetor Facial</td>\n      <td>21/07/2020</td>\n      <td>323099.0</td>\n      <td>Acre</td>\n      <td>Unidade</td>\n      <td>20.0</td>\n      <td>Entregue</td>\n    </tr>\n    <tr>\n      <th>5154</th>\n      <td>Óculos e Protetor Facial</td>\n      <td>21/07/2020</td>\n      <td>323099.0</td>\n      <td>Acre</td>\n      <td>Unidade</td>\n      <td>400.0</td>\n      <td>Entregue</td>\n    </tr>\n    <tr>\n      <th>5167</th>\n      <td>Máscara N95</td>\n      <td>21/07/2020</td>\n      <td>323108.0</td>\n      <td>Acre</td>\n      <td>Unidade</td>\n      <td>200.0</td>\n      <td>Entregue</td>\n    </tr>\n    <tr>\n      <th>5239</th>\n      <td>Máscara N95</td>\n      <td>21/07/2020</td>\n      <td>323099.0</td>\n      <td>Acre</td>\n      <td>Unidade</td>\n      <td>100.0</td>\n      <td>Entregue</td>\n    </tr>\n    <tr>\n      <th>5246</th>\n      <td>Óculos e Protetor Facial</td>\n      <td>21/07/2020</td>\n      <td>323108.0</td>\n      <td>Acre</td>\n      <td>Unidade</td>\n      <td>2000.0</td>\n      <td>Entregue</td>\n    </tr>\n  </tbody>\n</table>\n<p>148 rows × 7 columns</p>\n</div>"
     },
     "metadata": {},
     "execution_count": 77
    }
   ],
   "source": [
    "# Filtrar o dataframe pelo estado do Acre e quantidade maior ou igual a 10\n",
    "df.loc[(df['Destino'] == 'Acre') & (df['Quantidade'] >= 10)]"
   ]
  },
  {
   "cell_type": "code",
   "execution_count": 79,
   "metadata": {},
   "outputs": [
    {
     "output_type": "execute_result",
     "data": {
      "text/plain": "Destino\nAcre                       150\nAlagoas                    147\nAmapá                      149\nAmazonas                   150\nBahia                      153\nCeará                      162\nDistrito Federal           132\nEspírito Santo             161\nGoiás                      153\nMaranhão                   168\nMato Grosso                159\nMato Grosso do Sul         161\nMinas Gerais               150\nOutros Órgãos Federais    1072\nParaná                     152\nParaíba                    157\nPará                       165\nPernambuco                 145\nPiauí                      156\nRio Grande do Norte        155\nRio Grande do Sul          153\nRio de Janeiro             146\nRondônia                   147\nRoraima                    141\nSanta Catarina             166\nSergipe                    148\nSão Paulo                  182\nTocantins                  165\nName: Pedido, dtype: int64"
     },
     "metadata": {},
     "execution_count": 79
    }
   ],
   "source": [
    "# Agrupando atributos da coluna destino pela contagem do número de pedidos\n",
    "df.groupby('Destino')['Pedido'].count()"
   ]
  },
  {
   "cell_type": "code",
   "execution_count": null,
   "metadata": {},
   "outputs": [],
   "source": []
  }
 ]
}